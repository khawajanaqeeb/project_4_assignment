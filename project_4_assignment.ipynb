{
  "nbformat": 4,
  "nbformat_minor": 0,
  "metadata": {
    "colab": {
      "provenance": []
    },
    "kernelspec": {
      "name": "python3",
      "display_name": "Python 3"
    },
    "language_info": {
      "name": "python"
    }
  },
  "cells": [
    {
      "cell_type": "markdown",
      "source": [
        "**our first problem from Assignment-4**\n",
        "\n",
        "Problem Statement Write a Python program that takes two integer inputs from the user and calculates their sum. The program should perform the following tasks:\n",
        "\n",
        "Prompt the user to enter the first number.\n",
        "\n",
        "Read the input and convert it to an integer.\n",
        "\n",
        "Prompt the user to enter the second number.\n",
        "\n",
        "Read the input and convert it to an integer.\n",
        "\n",
        "Calculate the sum of the two numbers.\n",
        "\n",
        "Print the total sum with an appropriate message."
      ],
      "metadata": {
        "id": "HcbVSyjwNXnd"
      }
    },
    {
      "cell_type": "code",
      "source": [
        "\"\"\" Problem 1- Add two numbers. According to the given instructions\"\"\"\n",
        "\n",
        "def main():\n",
        "  print(\"This program add any two user inputed numbers.\")\n",
        "  n1:str=input(\"Enter first number: \")\n",
        "  n1:int=int(n1)\n",
        "  n2:str=input(\"Enter second number: \")\n",
        "  n2:int=int(n2)\n",
        "  total:int=n1+n2\n",
        "  print(\"The total is \" + str(total) + \".\")\n",
        "\n",
        "if __name__ == '__main__':\n",
        "    main()"
      ],
      "metadata": {
        "colab": {
          "base_uri": "https://localhost:8080/"
        },
        "id": "_XyWUmaDNs0x",
        "outputId": "072c3bac-6604-4eb6-98c5-390d55a955b0"
      },
      "execution_count": null,
      "outputs": [
        {
          "output_type": "stream",
          "name": "stdout",
          "text": [
            "This program add any two user inputed numbers.\n",
            "Enter first number: 46\n",
            "Enter second number: 76\n",
            "The total is 122.\n"
          ]
        }
      ]
    },
    {
      "cell_type": "markdown",
      "source": [
        "***This is the second problem from our given assignment-4 ***\n",
        "\n",
        "Problem Statement Write a program which asks the user what their favorite animal is, and then always responds with \"My favorite animal is also ___!\" (the blank should be filled in with the user-inputted animal, of course)."
      ],
      "metadata": {
        "id": "9lbUdmSLOb5Z"
      }
    },
    {
      "cell_type": "code",
      "source": [
        "\"\"\"This program ask the user to input favourite animan and agrees that its favourite animal is also inputed animal\"\"\"\n",
        "\n",
        "def main():\n",
        "  print(\"This program agree that user inputted animal is its favourite one\")\n",
        "  animal=input(\"What is your favourite animal? \")\n",
        "  print(\"My favourite animal is also,\\033[1m\" + animal + \"\\033[0m\")  #\\033[1m starts bold text.and \\033[om for normal text again\n",
        "\n",
        "if __name__ == '__main__':\n",
        "    main()"
      ],
      "metadata": {
        "colab": {
          "base_uri": "https://localhost:8080/"
        },
        "id": "3YTNzujwOw6Z",
        "outputId": "21242099-a4e2-42a0-fe6e-5ae4af76f3f0"
      },
      "execution_count": null,
      "outputs": [
        {
          "output_type": "stream",
          "name": "stdout",
          "text": [
            "This program agree that user inputted animal is its favourite one\n",
            "What is your favourite animal? horse\n",
            "My favourite animal is also,\u001b[1mhorse\u001b[0m\n"
          ]
        }
      ]
    },
    {
      "cell_type": "markdown",
      "source": [
        "**This is the 3rd pproblem of our assingment-4**\n",
        "\n",
        "Write a program which prompts the user for a temperature in Fahrenheit (this can be a number with decimal places!) and outputs the temperature converted to Celsius.\n",
        "\n",
        "The Celsius scale is widely used to measure temperature, but places still use Fahrenheit. Fahrenheit is another unit for temperature, but the scale is different from Celsius -- for example, 0 degrees Celsius is 32 degrees Fahrenheit!\n",
        "\n",
        "The equation you should use for converting from Fahrenheit to Celsius is the following:\n",
        "\n",
        "degrees_celsius = (degrees_fahrenheit - 32) * 5.0/9.0"
      ],
      "metadata": {
        "id": "W-3YWLpXPLN_"
      }
    },
    {
      "cell_type": "code",
      "source": [
        "\"\"\"Program: Fahrenheit to Celsius\n",
        "--------------------\n",
        "This program asks the user for input temperature in Fahrenheit and converts it to Celsius.\n",
        "\"\"\"\n",
        "\n",
        "def main():\n",
        "  print(\"This program converts Fahrenheit to Celsius \")\n",
        "  temp:float=float(input(\"Enter temperature to be converted into celsius : \"))\n",
        "  celsius = (temp - 32) * 5.0 / 9.0\n",
        "  print(f\"\\033[1m{temp}°F\\033[0m is equal to\\033[1m {celsius:.2f}°C \\033[0m\")\n",
        "\n",
        "if __name__ == '__main__':\n",
        "    main()\n"
      ],
      "metadata": {
        "colab": {
          "base_uri": "https://localhost:8080/"
        },
        "id": "RKskKPsdPUW7",
        "outputId": "a8e75f14-1e95-4568-ec0f-e72f8b97908a"
      },
      "execution_count": null,
      "outputs": [
        {
          "output_type": "stream",
          "name": "stdout",
          "text": [
            "This program converts Fahrenheit to Celsius \n",
            "Enter temperature to be converted into celsius : 100\n",
            "\u001b[1m100.0°F\u001b[0m is equal to\u001b[1m 37.78°C \u001b[0m\n"
          ]
        }
      ]
    },
    {
      "cell_type": "markdown",
      "source": [
        "This is the 4th problem from the given assignment-4 Problem Statement Write a program to solve this age-related riddle!\n",
        "\n",
        "Anton, Beth, Chen, Drew, and Ethan are all friends. Their ages are as follows:\n",
        "\n",
        "Anton is 21 years old.\n",
        "\n",
        "Beth is 6 years older than Anton.\n",
        "\n",
        "Chen is 20 years older than Beth.\n",
        "\n",
        "Drew is as old as Chen's age plus Anton's age.\n",
        "\n",
        "Ethan is the same age as Chen.\n",
        "\n",
        "Your code should store each person's age to a variable and print their names and ages at the end. The autograder is sensitive to capitalization and punctuation, be careful! Your solution should look like this (the below numbers are made up -- your solution should have the correct values!):"
      ],
      "metadata": {
        "id": "FaVD14klPmxD"
      }
    },
    {
      "cell_type": "code",
      "source": [
        "\"\"\"This Program: solve age-related riddle!\n",
        "--------------------\n",
        "This program asks the user to enter the age of one friend and then calculate ages of other 3 friends.\n",
        "\"\"\"\n",
        "\n",
        "def main():\n",
        "  print(\" This program solves the age-related riddle!\")\n",
        "  print(\"--------------------\")\n",
        "  anton:int =int(input(\"Enter the age of Anton: \"))\n",
        "  beth:int =anton+6\n",
        "  chen:int =beth+20\n",
        "  drew:int =chen+anton\n",
        "  ethan:int =chen\n",
        "  # printing of name and ages in correct format.\n",
        "  print(\"--------------------\")\n",
        "  print(f\"Anton is {anton}\")\n",
        "  print(f\"Beth is {beth}\")\n",
        "  print(f\"Chen is {chen}\")\n",
        "  print(f\"Drew is {drew}\")\n",
        "  print(f\"Ethan is {ethan}\")\n",
        "\n",
        "if __name__ == '__main__':\n",
        "    main()\n"
      ],
      "metadata": {
        "colab": {
          "base_uri": "https://localhost:8080/"
        },
        "id": "4Z_9V2kSP23i",
        "outputId": "ae503583-6454-464f-a982-f39db165f0f2"
      },
      "execution_count": null,
      "outputs": [
        {
          "output_type": "stream",
          "name": "stdout",
          "text": [
            " This program solves the age-related riddle!\n",
            "--------------------\n",
            "Enter the age of Anton: 20\n",
            "--------------------\n",
            "Anton is 20\n",
            "Beth is 26\n",
            "Chen is 46\n",
            "Drew is 66\n",
            "Ethan is 46\n"
          ]
        }
      ]
    },
    {
      "cell_type": "markdown",
      "source": [
        "**This is the 5th problem form Assignment-4**\n",
        "\n",
        "Problem Statement\n",
        "Prompt the user to enter the lengths of each side of a triangle and then calculate and print the perimeter of the triangle (the sum of all of the side lengths)."
      ],
      "metadata": {
        "id": "5h25IqnhQVN_"
      }
    },
    {
      "cell_type": "code",
      "source": [
        "\"\"\"This Program: calculate the perimeter of a triangle.\n",
        "-----------------------------------------------------\n",
        "This program asks the user to enter the length of each side of a triangle and calculate the perimeter of triagle.\n",
        "\"\"\"\n",
        "\n",
        "def main():\n",
        "    print(\"This program calculate the perimeter of a triangle :)\")\n",
        "# \\003[1,3m for bold and italics\n",
        "    side1 = float(input(\"\\033[1;3mWhat is the length of side 1?\\033[0m \"))\n",
        "    side2 = float(input(\"\\033[1;3mWhat is the length of side 2?\\033[0m \"))\n",
        "    side3 = float(input(\"\\033[1;3mWhat is the length of side 3?\\033[0m \"))\n",
        "\n",
        "    perimeter = side1 + side2 + side3\n",
        "\n",
        "    print(f\"\\nThe perimeter of the triangle is \\033[1;3m{perimeter}\\033[0m\")\n",
        "\n",
        "\n",
        "if __name__ == '__main__':\n",
        "    main()"
      ],
      "metadata": {
        "colab": {
          "base_uri": "https://localhost:8080/"
        },
        "id": "GeqBskAJQgPJ",
        "outputId": "6b8e386f-ec8e-4b1a-99c4-fbd5592fc5f8"
      },
      "execution_count": null,
      "outputs": [
        {
          "output_type": "stream",
          "name": "stdout",
          "text": [
            "This program calculate the perimeter of a triangle :)\n",
            "\u001b[1;3mWhat is the length of side 1?\u001b[0m 2\n",
            "\u001b[1;3mWhat is the length of side 2?\u001b[0m 4\n",
            "\u001b[1;3mWhat is the length of side 3?\u001b[0m 6\n",
            "\n",
            "The perimeter of the triangle is \u001b[1;3m12.0\u001b[0m\n"
          ]
        }
      ]
    },
    {
      "cell_type": "markdown",
      "source": [
        "Problem Statement:\n",
        "\n",
        "-------------------\n",
        "Ask the user for a number and print its square (the product of the number times itself)."
      ],
      "metadata": {
        "id": "qyVcEytOUrDW"
      }
    },
    {
      "cell_type": "code",
      "execution_count": null,
      "metadata": {
        "colab": {
          "base_uri": "https://localhost:8080/"
        },
        "id": "qeXThQVrUO7h",
        "outputId": "a3f47d8b-4c13-47bc-f3c5-2e7503b957b9"
      },
      "outputs": [
        {
          "output_type": "stream",
          "name": "stdout",
          "text": [
            "This program calculate the square of given number :)\n",
            "Enter a number: 6\n",
            "The square of \u001b[1m6 \u001b[0m is \u001b[1m36\u001b[0m\n"
          ]
        }
      ],
      "source": [
        "\"\"\"\n",
        "Program: Square a given number\n",
        "--------------------\n",
        "This program asks the user for integer and prints their square .\n",
        "\"\"\"\n",
        "\n",
        "def main():\n",
        "    print(\"This program calculate the square of given number :)\")\n",
        "\n",
        "    number:int = int(input(\"Enter a number: \"))\n",
        "\n",
        "    print(f\"The square of \\033[1m{number} \\033[0m is \\033[1m{number**2}\\033[0m\")\n",
        "\n",
        "\n",
        "\n",
        "if __name__ == '__main__':\n",
        "    main()"
      ]
    },
    {
      "cell_type": "markdown",
      "source": [
        "Problem Statement\n",
        "Simulate rolling two dice, three times. Prints the results of each die roll. This program is used to show how variable scope works."
      ],
      "metadata": {
        "id": "JnUCnTpf4c5L"
      }
    },
    {
      "cell_type": "code",
      "source": [
        "\"\"\"\n",
        "Program: dicesimulator\n",
        "----------------------\n",
        "Simulate rolling two dice, three times.  Prints\n",
        "the results of each die roll.  This program is used\n",
        "to show how variable scope works.\n",
        "\"\"\"\n",
        "import random\n",
        "\n",
        "NUM_SIDES=6          # in capital letter to show its constant\n",
        "\n",
        "def roll_dice():      # this function will act as rolling of dices and calculate their totals\n",
        "    dic1:int = random.randint(1,NUM_SIDES)\n",
        "    dic2:int = random.randint(1,NUM_SIDES)\n",
        "    total:int = dic1 + dic2\n",
        "    print(f\"Total of two dice is {total}\")\n",
        "\n",
        "\n",
        "def main():\n",
        "    print(\"This program simulate rolling two dice and also show that local variable donot change by outsite fucntion :)\")\n",
        "    dic1:int=10       # this is local variabel and outsdie roll_dice() so result will not effected by its value\n",
        "    print(\"dic1 in main() starts with the value : \"+ str(dic1))\n",
        "    # calling actual function three times\n",
        "    roll_dice()\n",
        "    roll_dice()\n",
        "    roll_dice()\n",
        "    print(\"dic1 in main() ends with the value : \"+ str(dic1))\n",
        "\n",
        "if __name__ == '__main__':\n",
        "    main()"
      ],
      "metadata": {
        "colab": {
          "base_uri": "https://localhost:8080/"
        },
        "id": "EBgCbxEJ4cGz",
        "outputId": "11a95108-7f52-4c1a-91ae-fc1dfa0c76da"
      },
      "execution_count": null,
      "outputs": [
        {
          "output_type": "stream",
          "name": "stdout",
          "text": [
            "This program simulate rolling two dice and also show that local variable donot change by outsite fucntion :)\n",
            "dic1 in main() starts with the value : 10\n",
            "Total of two dice is 5\n",
            "Total of two dice is 6\n",
            "Total of two dice is 7\n",
            "dic1 in main() ends with the value : 10\n"
          ]
        }
      ]
    },
    {
      "cell_type": "markdown",
      "source": [
        "Problem Statement\n",
        "Write a program that continually reads in mass from the user and then outputs the equivalent energy using Einstein's mass-energy equivalence formula (E stands for energy, m stands for mass, and C is the speed of light:\n",
        "\n",
        "E = m * c**2\n",
        "\n",
        "Almost 100 years ago, Albert Einstein famously discovered that mass and energy are interchangeable and are related by the above equation. You should ask the user for mass (m) in kilograms and use a constant value for the speed of light -- C = 299792458 m/s.\n",
        "\n",
        "Here's a sample run of the program (user input is in bold italics):\n",
        "\n",
        "Enter kilos of mass: 100\n",
        "\n",
        "e = m * C^2...\n",
        "\n",
        "m = 100.0 kg\n",
        "\n",
        "C = 299792458 m/s\n",
        "\n",
        "8.987551787368176e+18 joules of energy!"
      ],
      "metadata": {
        "id": "IkrRhCn1AJdL"
      }
    },
    {
      "cell_type": "code",
      "source": [
        "C: int = 299792458  # C is constant and shows fixed  speed of light in m/s\n",
        "\n",
        "def main():\n",
        "    mass_in_kg: float = float(input(\"Enter kilos of mass for calculating energy: \"))\n",
        "\n",
        "    energy_in_joules: float = mass_in_kg * (C ** 2)     # code for E=M x C^2\n",
        "\n",
        "\n",
        "    print(\"m = \" + str(mass_in_kg) + \" kg\")\n",
        "    print(\"C = \" + str(C) + \" m/s\")\n",
        "\n",
        "    print(f\"According to the Einstein's energy equations E=mc^2 energy released \\033[1m E={energy_in_joules} \\033[0m\")\n",
        "\n",
        "\n",
        "if __name__ == '__main__':\n",
        "    main()"
      ],
      "metadata": {
        "colab": {
          "base_uri": "https://localhost:8080/"
        },
        "id": "VeNVGbPMAGu_",
        "outputId": "b9370c6b-802b-40c8-b74a-b0e348a51870"
      },
      "execution_count": null,
      "outputs": [
        {
          "output_type": "stream",
          "name": "stdout",
          "text": [
            "Enter kilos of mass for calculating energy: 876\n",
            "m = 876.0 kg\n",
            "C = 299792458 m/s\n",
            "According to the Einstein's energy equations E=mc^2 energy released \u001b[1m E=7.873095365734523e+19 \u001b[0m\n"
          ]
        }
      ]
    },
    {
      "cell_type": "markdown",
      "source": [
        "Problem Statement\n",
        "Converts feet to inches. Feet is an American unit of measurement. There are 12 inches per foot. Foot is the singular, and feet is the plural."
      ],
      "metadata": {
        "id": "eutpjzbFDahQ"
      }
    },
    {
      "cell_type": "code",
      "source": [
        "\"\"\"\n",
        "This program will convert feet to inches. Constant INCHES_IN_FOOT=12 will be declared outside the main().\n",
        "\"\"\"\n",
        "\n",
        "INCHES_IN_FOOT:int=12\n",
        "\n",
        "def main():\n",
        "  feet:float=float(input(\"Enter the value of feet to be converted in inches: \" ))\n",
        "  inches:float=feet * INCHES_IN_FOOT\n",
        "  print(f\" \\033[1m {feet} feet \\033[0mequal to \\033[1m{inches}\\033[0m inches\")\n",
        "\n",
        "if __name__ == '__main__':\n",
        "  main()"
      ],
      "metadata": {
        "colab": {
          "base_uri": "https://localhost:8080/"
        },
        "id": "f-uyr7beDfeP",
        "outputId": "19212a3c-f4a6-4c85-ee81-caed306c1768"
      },
      "execution_count": null,
      "outputs": [
        {
          "output_type": "stream",
          "name": "stdout",
          "text": [
            "Enter the value of feet to be converted in inches: 9\n",
            " \u001b[1m 9.0 feet \u001b[0mequal to \u001b[1m108.0\u001b[0m inches\n"
          ]
        }
      ]
    },
    {
      "cell_type": "markdown",
      "source": [
        "Problem Statement\n",
        "Write a program that asks the user for the lengths of the two perpendicular sides of a right triangle and outputs the length of the third side (the hypotenuse) using the Pythagorean theorem!\n",
        "\n",
        "The Pythagorean theorem, named after the ancient Greek thinker, Pythagoras, is a fundamental relation in geometry. It states that in a right triangle, the square of the hypotenuse is equal to the sum of the square of the other two sides.\n",
        "\n",
        "For instance, let's consider a right triangle ABC, with the right angle located at C. According to the Pythagorean theorem:\n",
        "\n",
        "BC ** 2 = AB ** 2 + AC ** 2\n",
        "\n",
        "Your code should read in the lengths of the sides AB and AC, and that outputs the length of the hypotenuse (BC). You will probably find math.sqrt() to be useful."
      ],
      "metadata": {
        "id": "6SoH_vBXHEcx"
      }
    },
    {
      "cell_type": "code",
      "source": [
        "from math import sqrt  # as we are instructed to use math.sqrt()\n",
        "\n",
        "def main():\n",
        "\n",
        "    ab: float = float(input(\"Enter the length of AB: \"))\n",
        "    ac: float = float(input(\"Enter the length of AC: \"))\n",
        "\n",
        "    # according to Pythagorean theorem hypotenuse^2=base^2+perpendicular^2\n",
        "    # here hypotenuse=bc , base=ab and perpendicular=ac\n",
        "    bc: float = sqrt(ab**2 + ac**2)\n",
        "    print(f\"The length of BC (the hypotenuse) is: \\033[1m {bc:.2f} \\033[0m\")\n",
        "\n",
        "\n",
        "if __name__ == '__main__':\n",
        "    main()"
      ],
      "metadata": {
        "colab": {
          "base_uri": "https://localhost:8080/"
        },
        "id": "Gp3nYKanHLZs",
        "outputId": "d0f49fc3-2b6a-4392-8f76-8c0a28938e47"
      },
      "execution_count": null,
      "outputs": [
        {
          "output_type": "stream",
          "name": "stdout",
          "text": [
            "Enter the length of AB: 4.6\n",
            "Enter the length of AC: 7.8\n",
            "The length of BC (the hypotenuse) is: \u001b[1m 9.06 \u001b[0m\n"
          ]
        }
      ]
    },
    {
      "cell_type": "markdown",
      "source": [
        "Problem Statement\n",
        "Ask the user for two numbers, one at a time, and then print the result of dividing the first number by the second and also the remainder of the division.\n",
        "\n",
        "Here's a sample run of the program (user input is in bold italics):\n",
        "\n",
        "Please enter an integer to be divided: 5\n",
        "\n",
        "Please enter an integer to divide by: 3\n",
        "\n",
        "The result of this division is 1 with a remainder of 2"
      ],
      "metadata": {
        "id": "D8j2GF59KJRb"
      }
    },
    {
      "cell_type": "code",
      "source": [
        "\"\"\" This prgram will divide a mumber with other number and show the quotient and remainder\"\"\"\n",
        "\n",
        "def main():\n",
        "    print(\"This program will divide a mumber with other number and show the quotient and remainder\")\n",
        "    num1:int=int(input(\"Please enter an integer to be divided: \"))\n",
        "    num2:int=int(input(\"Please enter an integer to divide by: \"))\n",
        "    quotient:int=num1//num2\n",
        "    remainder:int=num1%num2\n",
        "    print(f\"The result of this division is \\033[1m{quotient}\\033[0m with a remainder of \\033[1m{remainder}\\033[0m\")\n",
        "\n",
        "if __name__ == '__main__':\n",
        "    main()\n",
        "\n"
      ],
      "metadata": {
        "colab": {
          "base_uri": "https://localhost:8080/"
        },
        "id": "HUcTBRRDKK4c",
        "outputId": "74e2b628-4265-4f91-99a8-e74e084ae83f"
      },
      "execution_count": null,
      "outputs": [
        {
          "output_type": "stream",
          "name": "stdout",
          "text": [
            "This program will divide a mumber with other number and show the quotient and remainder\n",
            "Please enter an integer to be divided: 10\n",
            "Please enter an integer to divide by: 6\n",
            "The result of this division is \u001b[1m1\u001b[0m with a remainder of \u001b[1m4\u001b[0m\n"
          ]
        }
      ]
    },
    {
      "cell_type": "markdown",
      "source": [
        "Problem Statement\n",
        "Simulate rolling two dice, and prints results of each roll as well as the total."
      ],
      "metadata": {
        "id": "NhliqIRQM6tn"
      }
    },
    {
      "cell_type": "code",
      "source": [
        "\"\"\"This program will simulate rolling two dice and prints results of each roll as well as the total\"\"\"\n",
        "\n",
        "import random\n",
        "\n",
        "DICE_SIDE:int=6           # constant of dice fixed as 6\n",
        "\n",
        "def main():\n",
        "    dic1:int=random.randint(1,DICE_SIDE)\n",
        "    dic2:int=random.randint(1,DICE_SIDE)\n",
        "    total:int=dic1+dic2\n",
        "    print(f\"dice1=\\033[1m{dic1}\\033[0m and dice2=\\033[1m{dic2}\\033[0m\")\n",
        "    print(f\"Total of two dice is \\033[1m{total}\\033[0m\")\n",
        "\n",
        "if __name__ == '__main__':\n",
        "    main()\n",
        "\n"
      ],
      "metadata": {
        "colab": {
          "base_uri": "https://localhost:8080/"
        },
        "id": "0fwGs1NlNDhi",
        "outputId": "fc0378dd-20e9-422e-ea91-ac796a57de44"
      },
      "execution_count": null,
      "outputs": [
        {
          "output_type": "stream",
          "name": "stdout",
          "text": [
            "dice1=\u001b[1m6\u001b[0m and dice2=\u001b[1m4\u001b[0m\n",
            "Total of two dice is \u001b[1m10\u001b[0m\n"
          ]
        }
      ]
    },
    {
      "cell_type": "markdown",
      "source": [
        "Problem Statement\n",
        "Use Python to calculate the number of seconds in a year, and tell the user what the result is in a nice print statement that looks like this (of course the value 5 should be the calculated number instead):\n",
        "\n",
        "There are 5 seconds in a year!\n",
        "\n",
        "You should use constants for this exercise -- there are 365 days in a year, 24 hours in a day, 60 minutes in an hour, and 60 seconds per minute."
      ],
      "metadata": {
        "id": "Icv9HtljOudp"
      }
    },
    {
      "cell_type": "code",
      "source": [
        "\"\"\"This program will calculate the number of seconds in a year\"\"\"\n",
        "#first we will set the constants\n",
        "DAYS_IN_YEAR:int=365\n",
        "HOURS_IN_DAY:int=24\n",
        "MINUTES_IN_HOUR:int=60\n",
        "SECONDS_IN_MINUTES:int=60\n",
        "\n",
        "def main():\n",
        "    seconds_in_year:int=DAYS_IN_YEAR*HOURS_IN_DAY*MINUTES_IN_HOUR*SECONDS_IN_MINUTES\n",
        "    print(f\"There are \\033[1m{seconds_in_year}\\033[0m seconds in a year!\")\n",
        "\n",
        "if __name__ == '__main__':\n",
        "    main()\n",
        "\n"
      ],
      "metadata": {
        "colab": {
          "base_uri": "https://localhost:8080/"
        },
        "id": "7T_qB7K7OwJP",
        "outputId": "76118b7b-082d-4bb6-db13-aa2f0f8be808"
      },
      "execution_count": null,
      "outputs": [
        {
          "output_type": "stream",
          "name": "stdout",
          "text": [
            "There are \u001b[1m31536000\u001b[0m seconds in a year!\n"
          ]
        }
      ]
    },
    {
      "cell_type": "markdown",
      "source": [
        "Problem Statement\n",
        "Write a program which prompts the user for an adjective, then a noun, then a verb, and then prints a fun sentence with those words!\n",
        "\n",
        "Mad Libs is a word game where players are prompted for one word at a time, and the words are eventually filled into the blanks of a word template to make an entertaining story! We've provided you with the beginning of a sentence (the SENTENCE_START constant) which will end in a user-inputted adjective, noun, and then verb.\n",
        "\n",
        "Here's a sample run (user input is in bold italics):\n",
        "\n",
        "Please type an adjective and press enter. tiny\n",
        "\n",
        "Please type a noun and press enter. plant\n",
        "\n",
        "Please type a verb and press enter. fly\n",
        "\n",
        "Code in Place is fun. I learned to program and used Python to make my tiny plant fly!"
      ],
      "metadata": {
        "id": "xLpVqhkVQ3dm"
      }
    },
    {
      "cell_type": "code",
      "source": [
        "\"\"\"This program ask user to first input adjective , then a noun, then a verb and then prints a fun sentence with those words\"\"\"\n",
        "\n",
        "SENTENCE_START:str=\"Code in GIAIC is fun. I learned to program and used Python to make my \"\n",
        "\n",
        "def main():\n",
        "    adjective:str=input(\"Please type an adjective and press enter. \")\n",
        "    noun:str=input(\"Please type a noun and press enter. \")\n",
        "    verb:str=input(\"Please type a verb and press enter. \")\n",
        "    print(SENTENCE_START + adjective + \" \" + noun + \" \" + verb + \"!\")\n",
        "\n",
        "if __name__ == '__main__':\n",
        "    main()"
      ],
      "metadata": {
        "colab": {
          "base_uri": "https://localhost:8080/"
        },
        "id": "oVyEaiVTQ5Ad",
        "outputId": "ad2b519a-01dc-4857-9ae9-33062cd5b543"
      },
      "execution_count": null,
      "outputs": [
        {
          "output_type": "stream",
          "name": "stdout",
          "text": [
            "Please type an adjective and press enter. slow\n",
            "Please type a noun and press enter. laptop\n",
            "Please type a verb and press enter. jumping\n",
            "Code in GIAIC is fun. I learned to program and used Python to make my slow laptop jumping!\n"
          ]
        }
      ]
    },
    {
      "cell_type": "markdown",
      "source": [
        "Problem Statement\n",
        "Write a function that takes a list of numbers and returns the sum of those numbers."
      ],
      "metadata": {
        "id": "JfP6dlECylQ_"
      }
    },
    {
      "cell_type": "code",
      "source": [
        " \"\"\"\n",
        " This program takes in a list of numbers and returns the sum of those numbers.\n",
        " \"\"\"\n",
        "\n",
        "\n",
        "def add_numbers(numbers)-> int:      #function to add numbers\n",
        "\n",
        "\n",
        "    total: int = 0\n",
        "    for number in numbers:\n",
        "        total += number\n",
        "\n",
        "    return total\n",
        "\n",
        "def main():\n",
        "    numbers: list[int] = [1, 2, 3, 4, 5,6,7,8,9,10]  # list of numbers 1 to 10\n",
        "    sum_of_numbers: int = add_numbers(numbers)  # Find the sum of the list\n",
        "    print(f\"sum of numbers of list is \\033[1m{sum_of_numbers}\\033[0m\")  # Print out the sum above\n",
        "\n",
        "\n",
        "if __name__ == '__main__':\n",
        "    main()"
      ],
      "metadata": {
        "colab": {
          "base_uri": "https://localhost:8080/"
        },
        "id": "_Q3eNMYWynFQ",
        "outputId": "489a8bce-f5de-4f3d-cd37-9ebf1e31c7f0"
      },
      "execution_count": null,
      "outputs": [
        {
          "output_type": "stream",
          "name": "stdout",
          "text": [
            "sum of numbers of list is \u001b[1m55\u001b[0m\n"
          ]
        }
      ]
    },
    {
      "cell_type": "markdown",
      "source": [
        "Problem Statement\n",
        "Write a program that doubles each element in a list of numbers. For example, if you start with this list:\n",
        "\n",
        "numbers = [1, 2, 3, 4]\n",
        "\n",
        "You should end with this list:\n",
        "\n",
        "numbers = [2, 4, 6, 8]"
      ],
      "metadata": {
        "id": "mfGyVRxR0ubP"
      }
    },
    {
      "cell_type": "code",
      "source": [
        "def main():      #Here the main() function defines, which will execute when called.\n",
        "    numbers: list[int] = [1, 2, 3, 4]  #A list named numbers, is created with four integer values [1, 2, 3, 4].\n",
        "\n",
        "    for i in range(len(numbers)):\n",
        "      # len(numbers) returns 4, so range(4) produces [0, 1, 2, 3] which are the indices of the list.\n",
        "        index_elements = numbers[i]\n",
        "      # numbers[i] gets the value at index i and stores it in index_elements which is a list.\n",
        "        numbers[i] = index_elements * 2\n",
        "      # every element of index now multiply by 2 which double the value on each index and stores it to numbers[i] list.\n",
        "\n",
        "    print(\"new list of doubled number of each index is\",numbers)\n",
        "\n",
        "\n",
        "\n",
        "if __name__ == '__main__':\n",
        "    main()"
      ],
      "metadata": {
        "colab": {
          "base_uri": "https://localhost:8080/"
        },
        "id": "NXRoxR4g04fC",
        "outputId": "676b8a1e-7146-48c3-afba-c80fea51d915"
      },
      "execution_count": null,
      "outputs": [
        {
          "output_type": "stream",
          "name": "stdout",
          "text": [
            "new list of doubled number of each index is [2, 4, 6, 8]\n"
          ]
        }
      ]
    },
    {
      "cell_type": "markdown",
      "source": [
        "**Problem Statement**\n",
        "\n",
        "---\n",
        "\n",
        "\n",
        "\n",
        "In the information flow lesson, we discussed using a variable storing a number as an example of scope. We saw that changes we made to the number inside a function did not stay unless we returned it. This is true for what we call immutable data types which include things like numbers and strings.\n",
        "\n",
        "However, there are also mutable data types where changes stay even if we don't return anything. Some examples of mutable data types are lists and dictionaries. This means that you should be mindful when modifying lists and dictionaries within helper functions since their changes stay whether or not you return them.\n",
        "\n",
        "To see this in action, fill out the add_three_copies(...) function which takes a list and some data and then adds three copies of the data to the list. Don't return anything and see what happens! Compare this process to the x = change(x) example and note the differences.\n",
        "\n",
        "Here is an example run of this program (user input in bold italics):\n",
        "\n",
        "Enter a message to copy: Hello world!\n",
        "\n",
        "List before: []\n",
        "\n",
        "List after: ['Hello world!', 'Hello world!', 'Hello world!']\n",
        "\n",
        "(Note. The concept of immutable/mutable data types is called mutability. Be careful because different programming languages have different rules regarding mutability!)"
      ],
      "metadata": {
        "id": "5-rpOwye90-3"
      }
    },
    {
      "cell_type": "code",
      "source": [
        "\"\"\"This program will add three copies of the data to the list\"\"\"\n",
        "\n",
        "\n",
        "\n",
        "def add_three_copies(list, data):    # this the function to add three copies of data and has two parameters list to add data and data which will add\n",
        "    for i in range(3):               # this is the loop to run three times for indices [0,1,2]\n",
        "        list.append(data)            # append is used to add data for each loop iteration\n",
        "\n",
        "\n",
        "\n",
        "def main():\n",
        "    text = input(\"Enter a message to copy: \")    # ask user to input text and store it to variable  named text.\n",
        "    list = []                                    # creating empty list\n",
        "    print(\"List before:\", list)                  # printing of empty list\n",
        "    add_three_copies(list, text)                 # adding user inputed data three times\n",
        "    print(\"List after:\", list)                   # display list after adding data three times\n",
        "\n",
        "if __name__ == \"__main__\":\n",
        "    main()"
      ],
      "metadata": {
        "colab": {
          "base_uri": "https://localhost:8080/"
        },
        "id": "hZ93m4x-91_J",
        "outputId": "ba63d44e-52c9-4304-b8e3-c294ee87d1fb"
      },
      "execution_count": null,
      "outputs": [
        {
          "output_type": "stream",
          "name": "stdout",
          "text": [
            "Enter a message to copy: y\n",
            "List before: []\n",
            "List after: ['y', 'y', 'y']\n"
          ]
        }
      ]
    },
    {
      "cell_type": "markdown",
      "source": [
        "**Problem Statement**\n",
        "\n",
        "Fill out the function get_first_element(lst) which takes in a list lst as a parameter and prints the first element in the list. The list is guaranteed to be non-empty."
      ],
      "metadata": {
        "id": "MKvvjkJ5RaAG"
      }
    },
    {
      "cell_type": "code",
      "source": [
        "def get_first_element(lst):\n",
        "    \"\"\"\n",
        "    Returns the first element of a provided list, if it exists.\n",
        "    \"\"\"\n",
        "    if lst:            # Check if the list is not empty\n",
        "        return lst[0]\n",
        "    else:\n",
        "        return None    # Return None if the list is empty\n",
        "\n",
        "\n",
        "\n",
        "def get_lst():\n",
        "    \"\"\"\n",
        "    Enables the user to enter elements into a list, one at a time.\n",
        "    Stops when the user presses enter without input.\n",
        "    \"\"\"\n",
        "    lst = []\n",
        "    while True:\n",
        "        elem = input(\"Please enter an element of the list or press enter to stop: \")\n",
        "        if elem == \"\":\n",
        "            break\n",
        "        lst.append(elem)\n",
        "    return lst\n",
        "\n",
        "def main():\n",
        "    lst = get_lst()\n",
        "    first_element = get_first_element(lst)\n",
        "\n",
        "    if first_element is not None:\n",
        "        print(f\"First element: {first_element}\")\n",
        "    else:\n",
        "        print(\"The list is empty.\")\n",
        "\n",
        "    print(f\"Full list: {lst}\")\n",
        "\n",
        "if __name__ == '__main__':\n",
        "    main()"
      ],
      "metadata": {
        "colab": {
          "base_uri": "https://localhost:8080/"
        },
        "id": "JG0oZe1ORl89",
        "outputId": "28333fce-4894-4403-f4b5-50908b585347"
      },
      "execution_count": null,
      "outputs": [
        {
          "output_type": "stream",
          "name": "stdout",
          "text": [
            "Please enter an element of the list or press enter to stop: \n",
            "The list is empty.\n",
            "Full list: []\n"
          ]
        }
      ]
    },
    {
      "cell_type": "markdown",
      "source": [
        "**Problem Statement**\n",
        "\n",
        "Fill out the function get_last_element(lst) which takes in a list lst as a parameter and prints the last element in the list. The list is guaranteed to be non-empty, but there are no guarantees on its length."
      ],
      "metadata": {
        "id": "foDjEmf4W5pl"
      }
    },
    {
      "cell_type": "code",
      "source": [
        "def get_last_element(lst):\n",
        "    \"\"\"\n",
        "    Prints the last element of a given non-empty list.\n",
        "    \"\"\"\n",
        "    print(f\"Last element: {lst[-1]}\")  # here we are using f-string for better readability\n",
        "\n",
        "def get_lst():\n",
        "    \"\"\"\n",
        "    Enables the user to enter elements into a list, one at a time.\n",
        "    Stops when the user presses enter without input.\n",
        "    \"\"\"\n",
        "    lst = []\n",
        "    while True:\n",
        "        elem = input(\"Please enter an element of the list or press enter to stop: \")\n",
        "        if elem == \"\":\n",
        "            break\n",
        "        lst.append(elem)\n",
        "    return lst\n",
        "\n",
        "def main():\n",
        "    lst = get_lst()\n",
        "    get_last_element(lst)  # Now prints the last element using f-string\n",
        "    print(\"Full list:\", lst)  # Show the full list for verification\n",
        "\n",
        "if __name__ == '__main__':\n",
        "    main()\n"
      ],
      "metadata": {
        "colab": {
          "base_uri": "https://localhost:8080/"
        },
        "id": "qi7mKTSJW_Gv",
        "outputId": "8aa82701-92bf-4adc-8e36-7618c299e59c"
      },
      "execution_count": null,
      "outputs": [
        {
          "output_type": "stream",
          "name": "stdout",
          "text": [
            "Please enter an element of the list or press enter to stop: i\n",
            "Please enter an element of the list or press enter to stop: you\n",
            "Please enter an element of the list or press enter to stop: we\n",
            "Please enter an element of the list or press enter to stop: us\n",
            "Please enter an element of the list or press enter to stop: she\n",
            "Please enter an element of the list or press enter to stop: he\n",
            "Please enter an element of the list or press enter to stop: \n",
            "Last element: he\n",
            "Full list: ['i', 'you', 'we', 'us', 'she', 'he']\n"
          ]
        }
      ]
    },
    {
      "cell_type": "markdown",
      "source": [
        "**Problem Statement**\n",
        "\n",
        "Write a program which continuously asks the user to enter values which are added one by one into a list. When the user presses enter without typing anything, print the list.\n",
        "\n",
        "Here's a sample run (user input is in blue):\n",
        "\n",
        "Enter a value: 1 Enter a value: 2 Enter a value: 3 Enter a value: Here's the list: ['1', '2', '3']"
      ],
      "metadata": {
        "id": "ookn4Z6qcDiE"
      }
    },
    {
      "cell_type": "code",
      "source": [
        "def get_list():\n",
        "    \"\"\"\n",
        "    Continuously asks the user to enter values and adds them to a list.\n",
        "    Stops when the user presses enter without typing anything.\n",
        "    Returns the final list.\n",
        "    \"\"\"\n",
        "    lst = []\n",
        "    while True:\n",
        "        value = input(\"Enter a value: \")\n",
        "        if value == \"\":  # Stop when the user presses Enter\n",
        "            break\n",
        "        lst.append(value)  # Add value to the list\n",
        "    return lst\n",
        "\n",
        "def main():\n",
        "    lst = get_list()  # Get the user-input list\n",
        "    print(f\"Here's the list: {lst}\")  # Print the list using f-string\n",
        "\n",
        "if __name__ == \"__main__\":\n",
        "    main()\n"
      ],
      "metadata": {
        "colab": {
          "base_uri": "https://localhost:8080/"
        },
        "id": "anijLIX7dMNv",
        "outputId": "746a81bb-8f36-423c-dac1-9f8e811968b9"
      },
      "execution_count": null,
      "outputs": [
        {
          "output_type": "stream",
          "name": "stdout",
          "text": [
            "Enter a value: a\n",
            "Enter a value: b\n",
            "Enter a value: c\n",
            "Enter a value: \n",
            "Here's the list: ['a', 'b', 'c']\n"
          ]
        }
      ]
    },
    {
      "cell_type": "markdown",
      "source": [
        "**Problem Statement**\n",
        "\n",
        "Fill out the function shorten(lst) which removes elements from the end of lst, which is a list, and prints each item it removes until lst is MAX_LENGTH items long. If lst is already shorter than MAX_LENGTH you should leave it unchanged. We've written a main() function for you which gets a list and passes it into your function once you run the program. For the autograder to pass you will need MAX_LENGTH to be 3, but feel free to change it around to test your program."
      ],
      "metadata": {
        "id": "mgjWUgW6eAJ3"
      }
    },
    {
      "cell_type": "code",
      "source": [
        "MAX_LENGTH = 3  # Define the maximum allowed length of the list\n",
        "\n",
        "def shorten(lst):\n",
        "    \"\"\"\n",
        "    Removes elements from the end of the list until its length is MAX_LENGTH.\n",
        "    Prints each item that is removed.\n",
        "    If lst is already shorter than MAX_LENGTH, it remains unchanged.\n",
        "    \"\"\"\n",
        "    while len(lst) > MAX_LENGTH:  # Keep removing until length is MAX_LENGTH\n",
        "        removed_item = lst.pop()  # Remove the last item\n",
        "        print(f\"Removed: {removed_item}\")  # Print the removed item\n",
        "\n",
        "def get_list():\n",
        "    \"\"\"\n",
        "    Continuously asks the user to enter values and adds them to a list.\n",
        "    Stops when the user presses enter without typing anything.\n",
        "    Returns the final list.\n",
        "    \"\"\"\n",
        "    lst = []\n",
        "    while True:\n",
        "        value = input(\"Enter a value: \")\n",
        "        if value == \"\":  # Stop when the user presses Enter\n",
        "            break\n",
        "        lst.append(value)  # Add value to the list\n",
        "    return lst\n",
        "\n",
        "def main():\n",
        "    lst = get_list()  # Get the user-input list\n",
        "    shorten(lst)  # Remove extra items if needed\n",
        "    print(f\"Final list: {lst}\")  # Print the final list\n",
        "\n",
        "if __name__ == \"__main__\":\n",
        "    main()\n"
      ],
      "metadata": {
        "colab": {
          "base_uri": "https://localhost:8080/"
        },
        "id": "NksTf7B3eEYU",
        "outputId": "fb299ca8-88ec-4bf7-b3bb-ba0bebf4b0fc"
      },
      "execution_count": null,
      "outputs": [
        {
          "output_type": "stream",
          "name": "stdout",
          "text": [
            "Enter a value: a\n",
            "Enter a value: b\n",
            "Enter a value: c\n",
            "Enter a value: d\n",
            "Enter a value: e\n",
            "Enter a value: f\n",
            "Enter a value: \n",
            "Removed: f\n",
            "Removed: e\n",
            "Removed: d\n",
            "Final list: ['a', 'b', 'c']\n"
          ]
        }
      ]
    },
    {
      "cell_type": "markdown",
      "source": [
        "**Problem Statement**\n",
        "\n",
        "Write a program that prints the first 20 even numbers. There are several correct approaches, but they all use a loop of some sort. Do no write twenty print statements\n",
        "\n",
        "The first even number is 0:\n",
        "\n",
        "0 2 4 6 8 10 12 14 16 18 20 22 24 26 28 30 32 34 36 38"
      ],
      "metadata": {
        "id": "IuxgsucLRMzi"
      }
    },
    {
      "cell_type": "code",
      "source": [
        "\"\"\"This program write firt 20 even numbers through for loop\"\"\"\n",
        "\n",
        "def main():\n",
        "  for i in range(20):\n",
        "    print(i * 2,end=\",\")\n",
        "if __name__ == '__main__':\n",
        "  main()\n",
        "\n"
      ],
      "metadata": {
        "colab": {
          "base_uri": "https://localhost:8080/"
        },
        "id": "QuVpCgmCR3E_",
        "outputId": "9a8e5c0f-bc98-44c5-ddd0-16b6da43b12b"
      },
      "execution_count": null,
      "outputs": [
        {
          "output_type": "stream",
          "name": "stdout",
          "text": [
            "0,2,4,6,8,10,12,14,16,18,20,22,24,26,28,30,32,34,36,38,"
          ]
        }
      ]
    },
    {
      "cell_type": "markdown",
      "source": [
        "**Problem Statement**\n",
        "\n",
        "Write a program which asks a user for their age and lets them know if they can or can't vote in the following three fictional countries.\n",
        "\n",
        "Around the world, different countries have different voting ages. In the fictional countries of Peturksbouipo, Stanlau, and Mayengua, the voting ages are very different:\n",
        "\n",
        "the voting age in Peturksbouipo is 16 (in real life, this is the voting age in, for example, Scotland, Ethiopia, and Austria)\n",
        "\n",
        "the voting age in Stanlau is 25 (in real life this is the voting age in the United Arab Emirates)\n",
        "\n",
        "the voting age in Mayengua is 48 (in real life, as far as we can tell, this isn't the voting age anywhere)\n",
        "\n",
        "Your code should prompt the for their age and print whether or not they can vote in Peturksbouipo, Stanlau, or Mayengua.\n",
        "\n",
        "Here's a sample run of the program (user input is in blue):\n",
        "\n",
        "How old are you? 20 You can vote in Peturksbouipo where the voting age is 16. You cannot vote in Stanlau where the voting age is 25. You cannot vote in Mayengua where the voting age is 48."
      ],
      "metadata": {
        "id": "Fk5q2KrwUFo3"
      }
    },
    {
      "cell_type": "code",
      "source": [
        "\"\"\"This program will input the age of user and check whether they can vote in specific country or not\"\"\"\n",
        "\n",
        "PETURKSBOUIPO_AGE:int=16\n",
        "STANLAU_AGE:int=25\n",
        "MAYENGUA_AGE:int=48          # capital letters identify that they are constants\n",
        "\n",
        "def main():\n",
        "  age:int=int(input(\"How old are you? \"))\n",
        "  if age >= PETURKSBOUIPO_AGE:\n",
        "    print(\"You can vote in Peturksbouipo where the voting age is 16.\")\n",
        "  else:\n",
        "    print(\"You cannot vote in Peturksbouipo where the voting age is 16.\")\n",
        "\n",
        "  if age >= STANLAU_AGE:\n",
        "    print(\"You can vote in Stanlau where the voting age is 25.\")\n",
        "  else:\n",
        "    print(\"You cannot vote in Stanlau where the voting age is 25.\")\n",
        "\n",
        "  if age >= MAYENGUA_AGE:\n",
        "    print(\"You can vote in Manyengua where the voting age is 48.\")\n",
        "  else:\n",
        "    print(\"You cannot vote in Manyengua where the voting age is 48.\")\n",
        "\n",
        "\n",
        "if __name__ == '__main__':\n",
        "   main()"
      ],
      "metadata": {
        "colab": {
          "base_uri": "https://localhost:8080/"
        },
        "id": "-FNJGHH8UWL9",
        "outputId": "29a122fb-b2d5-48e2-dd7a-59fd8118c220"
      },
      "execution_count": null,
      "outputs": [
        {
          "output_type": "stream",
          "name": "stdout",
          "text": [
            "How old are you? 16\n",
            "You can vote in Peturksbouipo where the voting age is 16.\n",
            "You cannot vote in Stanlau where the voting age is 25.\n",
            "You cannot vote in Manyengua where the voting age is 48.\n"
          ]
        }
      ]
    },
    {
      "cell_type": "markdown",
      "source": [
        "**💡Problem Statement**\n",
        "\n",
        "Write a program that reads a year from the user and tells whether a given year is a leap year or not.\n",
        "\n",
        "A leap year (also known as an intercalary year or bissextile year) is a calendar year that contains an additional day (or, in the case of a lunisolar calendar, a month) added to keep the calendar year synchronized with the astronomical year or seasonal year. In the Gregorian calendar, each leap year has 366 days instead of 365, by extending February to 29 days rather than the common 28.\n",
        "\n",
        "In the Gregorian calendar, three criteria must be checked to identify leap years:\n",
        "\n",
        "The given year must be evenly divisible by 4;\n",
        "If the year can also be evenly divided by 100, it is NOT a leap year; unless:\n",
        "The year is also evenly divisible by 400. Then it is a leap year.\n",
        "Your code should use the above criteria to check for a leap year and then print either \"That's a leap year!\" or \"That's not a leap year.\""
      ],
      "metadata": {
        "id": "Hm0w0wJ5aWxW"
      }
    },
    {
      "cell_type": "code",
      "source": [
        "\"\"\"This program check whether a year is leap year or not\"\"\"\n",
        "\n",
        "\n",
        "\n",
        "def main():\n",
        "  year:int=int(input(\"Please enter a year: \"))\n",
        "  if year % 4 ==0:\n",
        "    if year % 100 ==0:\n",
        "      if year % 400 ==0:\n",
        "        print(\"That's a leap year!\")\n",
        "      else:\n",
        "        print(\"That's not a leap year.\")\n",
        "    else:\n",
        "      print(\"That's a leap year.\")\n",
        "  else:\n",
        "    print(\"That's not a leap year.\")\n",
        "\n",
        "if __name__ == '__main__':\n",
        "  main()\n",
        "\n"
      ],
      "metadata": {
        "colab": {
          "base_uri": "https://localhost:8080/"
        },
        "id": "cnqdHOPUasDU",
        "outputId": "4d385839-6956-4e99-e28b-5f42efc912b2"
      },
      "execution_count": null,
      "outputs": [
        {
          "output_type": "stream",
          "name": "stdout",
          "text": [
            "Please enter a year: 2028\n",
            "That's a leap year.\n"
          ]
        }
      ]
    },
    {
      "cell_type": "markdown",
      "source": [
        "The above program can also be done by this simplified way"
      ],
      "metadata": {
        "id": "rEVYTaaBhuv_"
      }
    },
    {
      "cell_type": "code",
      "source": [
        "def main():\n",
        "  year : int = int(input(\"Enter a year to be checked whether it is a leap year or not :\"))\n",
        "  if (year % 4 == 0 and year % 100 != 0) or (year % 400 == 0):\n",
        "    print(f\"{year} is a leap year\")\n",
        "  else:\n",
        "    print(f\"{year} is not a leap year\")\n",
        "\n",
        "if __name__ == '__main__':\n",
        "  main()\n",
        "\n"
      ],
      "metadata": {
        "colab": {
          "base_uri": "https://localhost:8080/"
        },
        "id": "NQXyGk1nhsE9",
        "outputId": "1ca5d758-e0b3-45d3-bd83-1f6134669603"
      },
      "execution_count": null,
      "outputs": [
        {
          "output_type": "stream",
          "name": "stdout",
          "text": [
            "Enter a year to be checked whether it is a leap year or not :2026\n",
            "2026 is not a leap year\n"
          ]
        }
      ]
    },
    {
      "cell_type": "markdown",
      "source": [
        "**Problem Statement**\n",
        "\n",
        "Write a program which asks the user how tall they are and prints whether or not they're taller than a pre-specified minimum height.\n",
        "\n",
        "In amusement parks (ah, the good old pre-pandemic days...), rollercoasters frequently have minimum height requirements for safety reasons. Assume for now that the minimum height is 50 of whatever height unit you'd like\n",
        "\n",
        "Here's two sample runs (user input is in bold italics):\n",
        "\n",
        "How tall are you? 100\n",
        "\n",
        "You're tall enough to ride!\n",
        "\n",
        "How tall are you? 10\n",
        "\n",
        "You're not tall enough to ride, but maybe next year!\n",
        "\n",
        "(For an extra challenge, write code which will repeatedly ask a user how tall they are and tell them whether or not they're tall enough to ride, until the user doesn't enter a height at all, in which case the program stops. Curious about how to do this? See the function tall_enough_extension() in the solution code!)"
      ],
      "metadata": {
        "id": "u0m3YE1Bjid2"
      }
    },
    {
      "cell_type": "code",
      "source": [
        "\"\"\"This program asks the user to enter height and checks whether they are tall enough to ride a roller coaster.\"\"\"\n",
        "\n",
        "HEIGHT_REQUIREMENT = 50\n",
        "\n",
        "def main():\n",
        "    while True:\n",
        "        height_str = input(\"Enter your height in inches (or press Enter to exit): \").strip()   #.strip()remove the white spaces\n",
        "\n",
        "        # Exit condition: User presses Enter\n",
        "        if height_str == \"\":\n",
        "            print(\"Goodbye! Have a great day!\")\n",
        "            break\n",
        "\n",
        "        try:\n",
        "            height = int(height_str)  # Convert input to integer\n",
        "\n",
        "            if height >= HEIGHT_REQUIREMENT:\n",
        "                print(\"✅ You're tall enough to ride! Enjoy! 🎢\")\n",
        "            else:\n",
        "                print(\"❌ You're not tall enough to ride, but maybe next year!\")\n",
        "\n",
        "        except ValueError:\n",
        "            print(\"⚠️ Invalid input. Please enter a valid number.\")\n",
        "\n",
        "if __name__ == '__main__':\n",
        "    main()\n",
        "\n"
      ],
      "metadata": {
        "colab": {
          "base_uri": "https://localhost:8080/"
        },
        "id": "qM6v50ZKjrvk",
        "outputId": "459bfab1-a754-4f2e-d78f-6b721178c1e0"
      },
      "execution_count": null,
      "outputs": [
        {
          "output_type": "stream",
          "name": "stdout",
          "text": [
            "Enter your height in inches (or press Enter to exit): 20\n",
            "❌ You're not tall enough to ride, but maybe next year!\n",
            "Enter your height in inches (or press Enter to exit): \n",
            "Goodbye! Have a great day!\n"
          ]
        }
      ]
    },
    {
      "cell_type": "markdown",
      "source": [
        "Print 10 random numbers in the range 1 to 100.\n",
        "\n",
        "Here is an example run:\n",
        "\n",
        "45 79 61 47 52 10 16 83 19 12\n",
        "\n",
        "Each time you run your program you should get different numbers\n",
        "\n",
        "81 76 70 1 27 63 96 100 32 92\n",
        "\n",
        "Recall that the python random library has a function randint which returns an integer in the range set by the parameters (inclusive). For example this call would produce a random integer between 1 and 6, which could include 1 and could include 6:\n",
        "\n",
        "value = random.randint(1, 6)"
      ],
      "metadata": {
        "id": "OCcupcz_seO9"
      }
    },
    {
      "cell_type": "code",
      "source": [
        "\"\"\"This program prints 10 random numbers from the range of 1 to 100\"\"\"\n",
        "\n",
        "import random  # Import the random module\n",
        "\n",
        "# Constants\n",
        "N_NUMBERS: int = 10\n",
        "MIN_VALUE: int = 1\n",
        "MAX_VALUE: int = 100\n",
        "\n",
        "def main():\n",
        "    for _ in range(N_NUMBERS):  # Loop N_NUMBERS times\n",
        "        value = random.randint(MIN_VALUE, MAX_VALUE)  # Generate a random number\n",
        "        print(value, end=\" \")  # Print numbers on the same line\n",
        "    print()  # Move to a new line\n",
        "\n",
        "if __name__ == '__main__':\n",
        "    main()\n"
      ],
      "metadata": {
        "colab": {
          "base_uri": "https://localhost:8080/"
        },
        "id": "J0taB6S1sgTa",
        "outputId": "e6943699-11f2-4d59-8ce8-c2a3e0c223b3"
      },
      "execution_count": null,
      "outputs": [
        {
          "output_type": "stream",
          "name": "stdout",
          "text": [
            "32 17 82 52 41 26 59 86 69 6 \n"
          ]
        }
      ]
    },
    {
      "cell_type": "markdown",
      "source": [
        "**Problem Statement**\n",
        "\n",
        "This program counts the number of times each number appears in a list. It uses a dictionary to keep track of the information.\n",
        "\n",
        "An example run of the program looks like this (user input is in blue):\n",
        "\n",
        "Enter a number: 3 Enter a number: 4 Enter a number: 3 Enter a number: 6 Enter a number: 4 Enter a number: 3 Enter a number: 12 Enter a number: 3 appears 3 times. 4 appears 2 times. 6 appears 1 times. 12 appears 1 times."
      ],
      "metadata": {
        "id": "214fMrjQuSqC"
      }
    },
    {
      "cell_type": "code",
      "source": [
        "def get_user_numbers():\n",
        "    \"\"\"\n",
        "    Ask the user to input numbers and store them in a list.\n",
        "    Stop asking when the user enters a blank line.\n",
        "    \"\"\"\n",
        "    user_numbers = []\n",
        "    while True:\n",
        "        user_input = input(\"Enter a number (or press Enter to stop): \")\n",
        "\n",
        "        # Stop when the user enters a blank line\n",
        "        if user_input == \"\":\n",
        "            break\n",
        "\n",
        "        # Ensure input is a valid number\n",
        "        try:\n",
        "            num = int(user_input)\n",
        "            user_numbers.append(num)\n",
        "        except ValueError:\n",
        "            print(\"Invalid input! Please enter a number.\")\n",
        "\n",
        "    return user_numbers\n",
        "\n",
        "def count_nums(num_lst):\n",
        "    \"\"\"\n",
        "    Count occurrences of numbers using a dictionary.\n",
        "    \"\"\"\n",
        "    num_dict = {}\n",
        "    for num in num_lst:\n",
        "        num_dict[num] = num_dict.get(num, 0) + 1  # Using .get() for cleaner code\n",
        "\n",
        "    return num_dict\n",
        "\n",
        "def print_counts(num_dict):\n",
        "    \"\"\"\n",
        "    Print each number and its count in a formatted way.\n",
        "    \"\"\"\n",
        "    if num_dict:\n",
        "        print(\"\\n\\033[1mNumber and their count:\\033[0m\")\n",
        "        for num, count in num_dict.items():\n",
        "            print(f\"{num} appears {count} times.\")\n",
        "    else:\n",
        "        print(\"\\nNo numbers were entered.\")\n",
        "\n",
        "def main():\n",
        "    \"\"\"\n",
        "    Get user input, count occurrences, and display results.\n",
        "    \"\"\"\n",
        "    user_numbers = get_user_numbers()\n",
        "    num_dict = count_nums(user_numbers)\n",
        "    print_counts(num_dict)\n",
        "\n",
        "# Run the script\n",
        "if __name__ == '__main__':\n",
        "    main()\n",
        "\n",
        "\n",
        "\n",
        "\n",
        "\n"
      ],
      "metadata": {
        "colab": {
          "base_uri": "https://localhost:8080/"
        },
        "id": "_XxIobIsuXqM",
        "outputId": "c99c2f78-2577-4b30-b0b4-fbe5af869eb6"
      },
      "execution_count": null,
      "outputs": [
        {
          "output_type": "stream",
          "name": "stdout",
          "text": [
            "Enter a number (or press Enter to stop): 3\n",
            "Enter a number (or press Enter to stop): 5\n",
            "Enter a number (or press Enter to stop): 6\n",
            "Enter a number (or press Enter to stop): 7\n",
            "Enter a number (or press Enter to stop): \n",
            "\n",
            "\u001b[1mNumber and their count:\u001b[0m\n",
            "3 appears 1 times.\n",
            "5 appears 1 times.\n",
            "6 appears 1 times.\n",
            "7 appears 1 times.\n"
          ]
        }
      ]
    },
    {
      "cell_type": "markdown",
      "source": [
        "**Problem Statement**\n",
        "\n",
        "Write a program  using dictionaries to keep track of information in a phonebook."
      ],
      "metadata": {
        "id": "XpgpAPf-6nFe"
      }
    },
    {
      "cell_type": "code",
      "source": [
        "def read_phone_numbers():\n",
        "    \"\"\"\n",
        "    Ask the user for names and numbers to store in a phonebook (dictionary).\n",
        "    Returns the phonebook.\n",
        "    \"\"\"\n",
        "    phonebook = {}  # Create an empty phonebook\n",
        "\n",
        "    while True:\n",
        "        name = input(\"Enter name (or press Enter to stop): \").strip()\n",
        "        if name == \"\":\n",
        "            break  # Stop input when the user presses Enter\n",
        "\n",
        "        number = input(f\"Enter number for {name}: \").strip()\n",
        "\n",
        "        # If name already exists, ask for confirmation before overwriting\n",
        "        if name in phonebook:\n",
        "            confirm = input(f\"{name} already exists. Overwrite? (y/n): \").strip().lower()\n",
        "            if confirm != \"y\":\n",
        "                print(f\"Keeping existing number for {name}.\")\n",
        "                continue\n",
        "\n",
        "        phonebook[name] = number  # Store name-number pair in dictionary\n",
        "\n",
        "    return phonebook\n",
        "\n",
        "\n",
        "def print_phonebook(phonebook):\n",
        "    \"\"\"\n",
        "    Prints all the names and numbers in the phonebook.\n",
        "    \"\"\"\n",
        "    if not phonebook:\n",
        "        print(\"\\nPhonebook is empty.\")\n",
        "        return\n",
        "\n",
        "    print(\"\\nPhonebook Entries:\")\n",
        "    for name, number in phonebook.items():\n",
        "        print(f\"{name}---------{number}\")\n",
        "\n",
        "\n",
        "def lookup_numbers(phonebook):\n",
        "    \"\"\"\n",
        "    Allows the user to look up phone numbers in the phonebook.\n",
        "    \"\"\"\n",
        "    if not phonebook:\n",
        "        print(\"\\nNo contacts available for lookup.\")\n",
        "        return\n",
        "\n",
        "    while True:\n",
        "        name = input(\"\\nEnter name to look up (or press Enter to stop): \").strip()\n",
        "        if name == \"\":\n",
        "            print(\"Exiting lookup mode.\")\n",
        "            break  # Stop lookup when the user presses Enter\n",
        "\n",
        "        # Check if the name exists in the phonebook\n",
        "        if name in phonebook:\n",
        "            print(f\"{name}'s number is: {phonebook[name]}\")\n",
        "        else:\n",
        "            print(f\"{name} is not in the phonebook.\")\n",
        "\n",
        "\n",
        "def main():\n",
        "    \"\"\"\n",
        "    Main function that runs the phonebook program.\n",
        "    \"\"\"\n",
        "    phonebook = read_phone_numbers()\n",
        "    print_phonebook(phonebook)\n",
        "    lookup_numbers(phonebook)\n",
        "\n",
        "\n",
        "# Run the program if executed directly\n",
        "if __name__ == '__main__':\n",
        "    main()\n"
      ],
      "metadata": {
        "colab": {
          "base_uri": "https://localhost:8080/"
        },
        "id": "9EJO99g_6veo",
        "outputId": "1a8561c1-68c0-4c50-8c9a-ba963105a31c"
      },
      "execution_count": null,
      "outputs": [
        {
          "output_type": "stream",
          "name": "stdout",
          "text": [
            "Enter name (or press Enter to stop): tabish\n",
            "Enter number for tabish: 54944\n",
            "Enter name (or press Enter to stop): fashih\n",
            "Enter number for fashih: 68739\n",
            "Enter name (or press Enter to stop): yasir\n",
            "Enter number for yasir: 47589\n",
            "Enter name (or press Enter to stop): \n",
            "\n",
            "Phonebook Entries:\n",
            "tabish---------54944\n",
            "fashih---------68739\n",
            "yasir---------47589\n",
            "\n",
            "Enter name to look up (or press Enter to stop): go\n",
            "go is not in the phonebook.\n",
            "\n",
            "Enter name to look up (or press Enter to stop): fur\n",
            "fur is not in the phonebook.\n",
            "\n",
            "Enter name to look up (or press Enter to stop): yasir\n",
            "yasir's number is: 47589\n",
            "\n",
            "Enter name to look up (or press Enter to stop): \n",
            "Exiting lookup mode.\n"
          ]
        }
      ]
    },
    {
      "cell_type": "markdown",
      "source": [
        "**Problem Statement**\n",
        "\n",
        "There's a small fruit shop nearby your house that you like to buy from. Since you buy several fruit at a time, you want to keep track of how much the fruit will cost before you go. Luckily you wrote down what fruits were available and how much one of each fruit costs.\n",
        "\n",
        "Write a program that loops through a dictionary of fruits, prompting the user to see how many of each fruit they want to buy, and then prints out the total combined cost of all of the fruits.\n",
        "\n",
        "Here is an example run of the program (user input is in bold italics):\n",
        "\n",
        "How many (apple) do you want?: 2\n",
        "\n",
        "How many (durian) do you want?: 0\n",
        "\n",
        "How many (jackfruit) do you want?: 1\n",
        "\n",
        "How many (kiwi) do you want?: 0\n",
        "\n",
        "How many (rambutan) do you want?: 1\n",
        "\n",
        "How many (mango) do you want?: 3\n",
        "\n",
        "Your total is $99.5"
      ],
      "metadata": {
        "id": "zh6EWgvL9Sj9"
      }
    },
    {
      "cell_type": "code",
      "source": [
        "def calculate_total_cost():\n",
        "    # Fruit prices in USD\n",
        "    fruit_prices = {\n",
        "        \"apple\": 5.0,\n",
        "        \"durian\": 15.0,\n",
        "        \"jackfruit\": 10.0,\n",
        "        \"kiwi\": 8.5,\n",
        "        \"rambutan\": 12.0,\n",
        "        \"mango\": 7.5\n",
        "    }\n",
        "\n",
        "    total_cost = 0  # To store total price\n",
        "\n",
        "    # Loop through the dictionary\n",
        "    for fruit, price in fruit_prices.items():\n",
        "        while True:\n",
        "            try:\n",
        "                quantity = int(input(f\"How many ({fruit}) do you want?: \").strip())\n",
        "                if quantity < 0:\n",
        "                    print(\"Please enter a valid non-negative number.\")\n",
        "                    continue\n",
        "                total_cost += quantity * price  # Multiply quantity by price\n",
        "                break\n",
        "            except ValueError:\n",
        "                print(\"Invalid input! Please enter a valid number.\")\n",
        "\n",
        "    # Display total cost\n",
        "    print(f\"\\nYour total is ${total_cost:.2f}\")  # Formats total cost to 2 decimal places\n",
        "\n",
        "# Run the program\n",
        "if __name__ == \"__main__\":\n",
        "    calculate_total_cost()\n"
      ],
      "metadata": {
        "colab": {
          "base_uri": "https://localhost:8080/"
        },
        "id": "B6CAAgUF9YkZ",
        "outputId": "e2e73c6a-ecd5-4c98-a9c3-1d7b57a0e439"
      },
      "execution_count": null,
      "outputs": [
        {
          "output_type": "stream",
          "name": "stdout",
          "text": [
            "How many (apple) do you want?: -5\n",
            "Please enter a valid non-negative number.\n",
            "How many (apple) do you want?: 0\n",
            "How many (durian) do you want?: d\n",
            "Invalid input! Please enter a valid number.\n",
            "How many (durian) do you want?: 2\n",
            "How many (jackfruit) do you want?: 1\n",
            "How many (kiwi) do you want?: 1\n",
            "How many (rambutan) do you want?: 1\n",
            "How many (mango) do you want?: 1\n",
            "\n",
            "Your total is $68.00\n"
          ]
        }
      ]
    },
    {
      "cell_type": "markdown",
      "source": [
        "Problem Statement\n",
        "You want to be safe online and use different passwords for different websites. However, you are forgetful at times and want to make a program that can match which password belongs to which website without storing the actual password!\n",
        "\n",
        "This can be done via something called hashing. Hashing is when we take something and convert it into a different, unique identifier. This is done using a hash function. Luckily, there are several resources that can help us with this.\n",
        "\n",
        "For example, using a hash function called SHA256(...) something as simple as\n",
        "\n",
        "hello\n",
        "\n",
        "can be hashed into a much more complex\n",
        "\n",
        "2cf24dba5fb0a30e26e83b2ac5b9e29e1b161e5c1fa7425e73043362938b9824\n",
        "\n",
        "Fill out the login(...) function for a website that hashes their passwords. Login should return True if an email's stored password hash in stored_logins is the same as the hash of password_to_check.\n",
        "\n",
        "(Hint. You will need to use the provided hash_password(...) function. You don't necessarily need to know how it works, just know that hash_password(...) returns the hash for the password!)"
      ],
      "metadata": {
        "id": "vfJ_oTRnMBI9"
      }
    },
    {
      "cell_type": "code",
      "source": [
        "from hashlib import sha256\n",
        "\n",
        "def login(email, stored_logins, password_to_check):\n",
        "    \"\"\"\n",
        "    Returns True if the hash of the password we are checking matches the one in stored_logins\n",
        "    for a specific email. Otherwise, returns False.\n",
        "\n",
        "    email: the email we are checking the password for\n",
        "    stored_logins: a dictionary pointing from an email to its hashed password\n",
        "    password_to_check: a password we want to test alongside the email to login with\n",
        "    \"\"\"\n",
        "\n",
        "    # Retrieve the stored hash for the email (if exists)\n",
        "    stored_hash = stored_logins.get(email)\n",
        "\n",
        "    # If email is not found, return False\n",
        "    if stored_hash is None:\n",
        "        return False\n",
        "\n",
        "    # Check if the hashed password matches the stored hash\n",
        "    return stored_hash == hash_password(password_to_check)\n",
        "\n",
        "# There is no need to edit code beyond this point\n",
        "\n",
        "def hash_password(password):\n",
        "    \"\"\"\n",
        "    Takes in a password and returns the SHA256 hashed value for that specific password.\n",
        "\n",
        "    Inputs:\n",
        "        password: the password we want\n",
        "\n",
        "    Outputs:\n",
        "        the hashed form of the input password\n",
        "    \"\"\"\n",
        "    return sha256(password.encode()).hexdigest()\n",
        "\n",
        "def main():\n",
        "    # stored_logins is a dictionary with emails as keys and hashed passwords as values\n",
        "    stored_logins = {\n",
        "        \"example@gmail.com\": \"5e884898da28047151d0e56f8dc6292773603d0d6aabbdd62a11ef721d1542d8\",\n",
        "        \"code_in_placer@cip.org\": \"973607a4ae7b4cf7d96a100b0fb07e8519cc4f70441d41214a9f811577bb06cc\",\n",
        "        \"student@stanford.edu\": \"882c6df720fd99f5eebb1581a1cf975625cea8a160283011c0b9512bb56c95fb\"\n",
        "    }\n",
        "\n",
        "    print(login(\"example@gmail.com\", stored_logins, \"word\"))         # False\n",
        "    print(login(\"example@gmail.com\", stored_logins, \"password\"))    # True\n",
        "\n",
        "    print(login(\"code_in_placer@cip.org\", stored_logins, \"Karel\"))   # True\n",
        "    print(login(\"code_in_placer@cip.org\", stored_logins, \"karel\"))   # False\n",
        "\n",
        "    print(login(\"student@stanford.edu\", stored_logins, \"password\"))  # False\n",
        "    print(login(\"student@stanford.edu\", stored_logins, \"123!456?789\"))  # True\n",
        "\n",
        "\n",
        "if __name__ == '__main__':\n",
        "    main()\n"
      ],
      "metadata": {
        "colab": {
          "base_uri": "https://localhost:8080/"
        },
        "id": "0Lr_TvxSNxN7",
        "outputId": "afac15b3-23a9-4834-b6cd-87fb857185b9"
      },
      "execution_count": null,
      "outputs": [
        {
          "output_type": "stream",
          "name": "stdout",
          "text": [
            "False\n",
            "True\n",
            "False\n",
            "True\n",
            "False\n",
            "True\n"
          ]
        }
      ]
    },
    {
      "cell_type": "markdown",
      "source": [
        "Guess My Number\n",
        "\n",
        "I am thinking of a number between 0 and 99... Enter a guess: 50 Your guess is too high\n",
        "\n",
        "Enter a new number: 25 Your guess is too low\n",
        "\n",
        "Enter a new number: 40 Your guess is too low\n",
        "\n",
        "Enter a new number: 45 Your guess is too low\n",
        "\n",
        "Enter a new number: 48 Congrats! The number was: 48"
      ],
      "metadata": {
        "id": "beKNCqonOvJB"
      }
    },
    {
      "cell_type": "code",
      "source": [
        "import random\n",
        "\n",
        "def main():\n",
        "    # Generate the secret number at random!\n",
        "    secret_number = random.randint(1, 99)\n",
        "\n",
        "    print(\"I am thinking of a number between 1 and 99...\")\n",
        "\n",
        "    while True:\n",
        "        try:\n",
        "            # Get user's guess\n",
        "            guess = int(input(\"Enter a guess (1-99): \"))\n",
        "\n",
        "            # Check if the guess is within the valid range\n",
        "            if guess < 1 or guess > 99:\n",
        "                print(\"Please enter a number between 1 and 99.\")\n",
        "                continue  # Skip the rest of the loop and prompt again\n",
        "\n",
        "            if guess < secret_number:\n",
        "                print(\"Your guess is too low\")\n",
        "            elif guess > secret_number:\n",
        "                print(\"Your guess is too high\")\n",
        "            else:\n",
        "                print(f\"Congrats! The number was: {secret_number}\")\n",
        "                break  # Exit loop when guessed correctly\n",
        "\n",
        "        except ValueError:\n",
        "            print(\"Invalid input! Please enter a valid number between 1 and 99.\")\n",
        "\n",
        "if __name__ == '__main__':\n",
        "    main()\n"
      ],
      "metadata": {
        "colab": {
          "base_uri": "https://localhost:8080/"
        },
        "id": "q2Pir6xVOxF7",
        "outputId": "96ed19ea-d7cd-4eb4-b798-ed48601f3831"
      },
      "execution_count": null,
      "outputs": [
        {
          "output_type": "stream",
          "name": "stdout",
          "text": [
            "I am thinking of a number between 1 and 99...\n",
            "Enter a guess (1-99): 90\n",
            "Your guess is too high\n",
            "Enter a guess (1-99): 87\n",
            "Your guess is too high\n",
            "Enter a guess (1-99): 56\n",
            "Your guess is too low\n",
            "Enter a guess (1-99): 88\n",
            "Your guess is too high\n",
            "Enter a guess (1-99): 67\n",
            "Your guess is too low\n",
            "Enter a guess (1-99): 87\n",
            "Your guess is too high\n",
            "Enter a guess (1-99): 77\n",
            "Your guess is too high\n",
            "Enter a guess (1-99): 65\n",
            "Your guess is too low\n",
            "Enter a guess (1-99): 75\n",
            "Congrats! The number was: 75\n"
          ]
        }
      ]
    },
    {
      "cell_type": "markdown",
      "source": [
        "Problem Statement\n",
        "Write a program to print terms in the Fibonacci sequence up to a maximum value.\n",
        "\n",
        "In the 13th century, the Italian mathematician Leonardo Fibonacci, as a way to explain the geometric growth of a population of rabbits, devised a mathematical sequence that now bears his name. The first two terms in this sequence, Fib(0) and Fib(1), are 0 and 1, and every subsequent term is the sum of the preceding two. Thus, the first several terms in the Fibonacci sequence look like this:\n",
        "\n",
        "Fib(0) = 0 Fib(1) = 1 Fib(2) = 1 = 0 + 1 Fib(3) = 2 = 1 + 1 Fib(4) = 3 = 1 + 2 Fib(5) = 5 = 2 + 3\n",
        "\n",
        "Write a program that displays the terms in the Fibonacci sequence, starting with Fib(0) and continuing as long as the terms are less than 10,000 (you should store this value as a constant!). Thus, your program should produce the following sample run:\n",
        "\n",
        "0 1 1 2 3 5 8 13 21 34 55 89 144 233 377 610 987 1597 2584 4181 6765"
      ],
      "metadata": {
        "id": "C6o04MLAQZTc"
      }
    },
    {
      "cell_type": "code",
      "source": [
        "MAX_TERM_VALUE : int = 10000\n",
        "\n",
        "def main():\n",
        "    curr_term = 0  # The 0th Fibonacci Number\n",
        "    next_term = 1  # The 1st Fibonacci Number\n",
        "    while curr_term <= MAX_TERM_VALUE:\n",
        "        print(curr_term,end=\" \")\n",
        "        term_after_next = curr_term + next_term\n",
        "        curr_term = next_term\n",
        "        next_term = term_after_next\n",
        "\n",
        "\n",
        "if __name__ == '__main__':\n",
        "    main()"
      ],
      "metadata": {
        "colab": {
          "base_uri": "https://localhost:8080/"
        },
        "id": "60fCwhY8Qfao",
        "outputId": "f912d06a-f4f6-423e-f80c-25cc855a4d8f"
      },
      "execution_count": null,
      "outputs": [
        {
          "output_type": "stream",
          "name": "stdout",
          "text": [
            "0 1 1 2 3 5 8 13 21 34 55 89 144 233 377 610 987 1597 2584 4181 6765 "
          ]
        }
      ]
    }
  ]
}